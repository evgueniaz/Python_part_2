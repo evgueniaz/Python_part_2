{
 "cells": [
  {
   "cell_type": "markdown",
   "id": "5483a756",
   "metadata": {},
   "source": [
    "## Задание 1\n",
    "\n",
    "На складе лежат разные фрукты в разном количестве.\n",
    "Нужно написать функцию, которая на вход принимает любое количество названий фруктов и их количество, а возвращает общее количество фруктов на складе"
   ]
  },
  {
   "cell_type": "code",
   "execution_count": 1,
   "id": "4ef145be",
   "metadata": {},
   "outputs": [
    {
     "name": "stdout",
     "output_type": "stream",
     "text": [
      "The total number of fruit pieces is 24.\n"
     ]
    }
   ],
   "source": [
    "def total_fruits(**kwargs):\n",
    "    total = 0\n",
    "    for i in kwargs:\n",
    "        total += kwargs[i]\n",
    "    return total\n",
    "        \n",
    "fruits = {'apples': 3, 'pears': 4, 'melons': 7, 'plums': 10}\n",
    "\n",
    "print(f'The total number of fruit pieces is {total_fruits(**fruits)}.')"
   ]
  },
  {
   "cell_type": "markdown",
   "id": "81f6fc34",
   "metadata": {},
   "source": [
    "## Задание 2\n",
    "Дан список с затратами на рекламу. Но в данных есть ошибки, некоторые затраты имеют отрицательную величину. Удалите такие значения из списка и посчитайте суммарные затраты\n",
    "[100, 125, -90, 345, 655, -1, 0, 200]\n",
    "Используйте list comprehensions"
   ]
  },
  {
   "cell_type": "code",
   "execution_count": 2,
   "id": "ef03fc8c",
   "metadata": {},
   "outputs": [
    {
     "name": "stdout",
     "output_type": "stream",
     "text": [
      "суммарные затраты на рекламу 1425\n"
     ]
    }
   ],
   "source": [
    "expenses = [100, 125, -90, 345, 655, -1, 0, 200]\n",
    "total_expenses = 0\n",
    "[total_expenses := total_expenses + i for i in expenses if i > 0]\n",
    "print(f'суммарные затраты на рекламу {total_expenses}')"
   ]
  },
  {
   "cell_type": "markdown",
   "id": "948b1fe6",
   "metadata": {},
   "source": [
    "## Задание 3\n",
    "Даны два списка.\n",
    "\n",
    "Дата покупки\n",
    "\n",
    "['2021-09-14', '2021-12-15', '2021-09-08', '2021-12-05', '2021-10-09', '2021-09-30', '2021-12-22', '2021-11-29', '2021-12-24', \n",
    " '2021-11-26', '2021-10-27', '2021-12-18', '2021-11-09', '2021-11-23', '2021-09-27', '2021-10-02', '2021-12-27', '2021-09-20', \n",
    " '2021-12-13', '2021-11-01', '2021-11-09', '2021-12-06', '2021-12-08', '2021-10-09', '2021-10-31', '2021-09-30', '2021-11-09', \n",
    " '2021-12-13', '2021-10-26', '2021-12-09']\n",
    " \n",
    "Суммы покупок по датам\n",
    "\n",
    "[1270, 8413, 9028, 3703, 5739, 4095, 295, 4944, 5723, 3701, 4471, 651, 7037, 4274, 6275, 4988, 6930, 2971, 6592, 2004, 2822, \n",
    " 519, 3406, 2732, 5015, 2008, 316, 6333, 5700, 2887]"
   ]
  },
  {
   "cell_type": "markdown",
   "id": "ebc49ee4",
   "metadata": {},
   "source": [
    "### 3.1 Найдите, какая выручка у компании в ноябре\n",
    "Используйте list comprehensions"
   ]
  },
  {
   "cell_type": "code",
   "execution_count": 15,
   "id": "d1444d08",
   "metadata": {},
   "outputs": [
    {
     "name": "stdout",
     "output_type": "stream",
     "text": [
      "Revenue in November is 25098\n"
     ]
    }
   ],
   "source": [
    "purchase_dates = ['2021-09-14', '2021-12-15', '2021-09-08', '2021-12-05', '2021-10-09', '2021-09-30', '2021-12-22', \n",
    "                  '2021-11-29', '2021-12-24', '2021-11-26', '2021-10-27', '2021-12-18', '2021-11-09', '2021-11-23', \n",
    "                  '2021-09-27', '2021-10-02', '2021-12-27', '2021-09-20', '2021-12-13', '2021-11-01', '2021-11-09', \n",
    "                  '2021-12-06', '2021-12-08', '2021-10-09', '2021-10-31', '2021-09-30', '2021-11-09', '2021-12-13', \n",
    "                  '2021-10-26', '2021-12-09'] \n",
    "purchase_sums = [1270, 8413, 9028, 3703, 5739, 4095, 295, 4944, 5723, 3701, 4471, 651, 7037, 4274, 6275, 4988, 6930, \n",
    "                 2971, 6592, 2004, 2822, 519, 3406, 2732, 5015, 2008, 316, 6333, 5700, 2887]\n",
    "\n",
    "november_revenue = 0\n",
    "[november_revenue := november_revenue + purchase_sums[i] for i in range(len(purchase_sums)) if '-11-' in purchase_dates[i]]\n",
    "\n",
    "print(f'Revenue in November is {november_revenue}')"
   ]
  },
  {
   "cell_type": "markdown",
   "id": "661ca5f2",
   "metadata": {},
   "source": [
    "### 3.2 Найдите выручку компании в зависимости от месяца\n",
    "Для этого напишите функцию, которая на вход принимает список с датами и список с выручкой, а на выходе словарь, где ключи - это месяцы, а значения - это выручка.\n",
    "Используйте аннотирование типов."
   ]
  },
  {
   "cell_type": "code",
   "execution_count": 19,
   "id": "cdcf5518",
   "metadata": {},
   "outputs": [
    {
     "name": "stdout",
     "output_type": "stream",
     "text": [
      "Revenue by months is {'09': 25647, '12': 45452, '10': 28645, '11': 25098}\n"
     ]
    }
   ],
   "source": [
    "def rev_by_month(dates_lst: list, rev: list) -> dict:\n",
    "    res_dict = {}\n",
    "    for i in range(len(purchase_sums)):\n",
    "        if purchase_dates[i].split('-')[1] in res_dict.keys():\n",
    "            res_dict[purchase_dates[i].split('-')[1]] += purchase_sums[i]\n",
    "        else:\n",
    "            res_dict[purchase_dates[i].split('-')[1]] = purchase_sums[i]\n",
    "    return res_dict\n",
    "\n",
    "print(f'Revenue by months is {rev_by_month(purchase_dates, purchase_sums)}')"
   ]
  },
  {
   "cell_type": "code",
   "execution_count": null,
   "id": "a6432d70",
   "metadata": {},
   "outputs": [],
   "source": []
  }
 ],
 "metadata": {
  "kernelspec": {
   "display_name": "Python 3 (ipykernel)",
   "language": "python",
   "name": "python3"
  },
  "language_info": {
   "codemirror_mode": {
    "name": "ipython",
    "version": 3
   },
   "file_extension": ".py",
   "mimetype": "text/x-python",
   "name": "python",
   "nbconvert_exporter": "python",
   "pygments_lexer": "ipython3",
   "version": "3.11.5"
  }
 },
 "nbformat": 4,
 "nbformat_minor": 5
}
